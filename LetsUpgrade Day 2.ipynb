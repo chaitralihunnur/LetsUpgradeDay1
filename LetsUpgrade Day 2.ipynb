{
 "cells": [
  {
   "cell_type": "markdown",
   "metadata": {},
   "source": [
    "# LETSUPGRADE PYTHON ASSIGNMENT 1"
   ]
  },
  {
   "cell_type": "markdown",
   "metadata": {},
   "source": [
    "## 1. String:"
   ]
  },
  {
   "cell_type": "code",
   "execution_count": 21,
   "metadata": {},
   "outputs": [],
   "source": [
    "#built in functions on string\n",
    "str1='i am learning python.'"
   ]
  },
  {
   "cell_type": "code",
   "execution_count": 27,
   "metadata": {},
   "outputs": [
    {
     "name": "stdout",
     "output_type": "stream",
     "text": [
      "I am learning python.\n"
     ]
    }
   ],
   "source": [
    "#function 1\n",
    "x=str1.capitalize()#Converts the first character to upper case\n",
    "print(x)"
   ]
  },
  {
   "cell_type": "code",
   "execution_count": 28,
   "metadata": {},
   "outputs": [
    {
     "name": "stdout",
     "output_type": "stream",
     "text": [
      "i am learning python.\n"
     ]
    }
   ],
   "source": [
    "#function 2\n",
    "x=str1.casefold()#Converts string into lower case\n",
    "print(x)"
   ]
  },
  {
   "cell_type": "code",
   "execution_count": 30,
   "metadata": {},
   "outputs": [
    {
     "name": "stdout",
     "output_type": "stream",
     "text": [
      "i am learning python.\n"
     ]
    }
   ],
   "source": [
    "#function 3\n",
    "x=str1.center(20)#Returns a centered string\n",
    "print(x)"
   ]
  },
  {
   "cell_type": "code",
   "execution_count": 33,
   "metadata": {},
   "outputs": [
    {
     "name": "stdout",
     "output_type": "stream",
     "text": [
      "2\n"
     ]
    }
   ],
   "source": [
    "#function 4\n",
    "x=str1.count('a')#Returns the number of times a specified value occurs in a string\n",
    "print(x)"
   ]
  },
  {
   "cell_type": "code",
   "execution_count": 37,
   "metadata": {},
   "outputs": [
    {
     "name": "stdout",
     "output_type": "stream",
     "text": [
      "False\n"
     ]
    }
   ],
   "source": [
    "#function 5\n",
    "x=str1.endswith('b')#Returns true if the string ends with the specified value\n",
    "print(x)"
   ]
  },
  {
   "cell_type": "markdown",
   "metadata": {},
   "source": [
    "## 2. Lists"
   ]
  },
  {
   "cell_type": "code",
   "execution_count": 44,
   "metadata": {},
   "outputs": [],
   "source": [
    "#built in functions on lists\n",
    "lis=['I','am','learning','python','1','2','3']"
   ]
  },
  {
   "cell_type": "code",
   "execution_count": 45,
   "metadata": {},
   "outputs": [
    {
     "name": "stdout",
     "output_type": "stream",
     "text": [
      "['I', 'am', 'learning', 'python', '1', '2', '3', '4']\n"
     ]
    }
   ],
   "source": [
    "#function 1\n",
    "lis.append('4')#Adds an element at the end of the list\n",
    "print(lis)"
   ]
  },
  {
   "cell_type": "code",
   "execution_count": 46,
   "metadata": {},
   "outputs": [
    {
     "name": "stdout",
     "output_type": "stream",
     "text": [
      "1\n"
     ]
    }
   ],
   "source": [
    "#Function 2\n",
    "x=lis.count('2')#Returns the number of elements with the specified value\n",
    "print(x)"
   ]
  },
  {
   "cell_type": "code",
   "execution_count": 47,
   "metadata": {},
   "outputs": [
    {
     "name": "stdout",
     "output_type": "stream",
     "text": [
      "7\n"
     ]
    }
   ],
   "source": [
    "#Function 3\n",
    "x=lis.index('4')#Returns the index of the first element with the specified value\n",
    "print(x)"
   ]
  },
  {
   "cell_type": "code",
   "execution_count": 50,
   "metadata": {},
   "outputs": [
    {
     "name": "stdout",
     "output_type": "stream",
     "text": [
      "['4', '3', '2', '1', 'python', 'learning', 'am', 'I']\n"
     ]
    }
   ],
   "source": [
    "#Function 4\n",
    "lis.reverse()#Reverses the order of the list\n",
    "print(lis)"
   ]
  },
  {
   "cell_type": "code",
   "execution_count": 51,
   "metadata": {},
   "outputs": [
    {
     "name": "stdout",
     "output_type": "stream",
     "text": [
      "['4', '3', '2', 'python', 'learning', 'am', 'I']\n"
     ]
    }
   ],
   "source": [
    "#Function 5\n",
    "lis.remove('1')#Removes the first item with the specified value\n",
    "print(lis)"
   ]
  },
  {
   "cell_type": "markdown",
   "metadata": {},
   "source": [
    "## 3.Dictionary:"
   ]
  },
  {
   "cell_type": "code",
   "execution_count": 52,
   "metadata": {},
   "outputs": [],
   "source": [
    "##built in functions on dictonary\n",
    "car = {\"brand\": \"Ford\",\"model\": \"Mustang\",\"year\": 1964}"
   ]
  },
  {
   "cell_type": "code",
   "execution_count": 54,
   "metadata": {},
   "outputs": [
    {
     "name": "stdout",
     "output_type": "stream",
     "text": [
      "Mustang\n"
     ]
    }
   ],
   "source": [
    "#Function 1\n",
    "x=car.get(\"model\")#Returns the value of the specified key\n",
    "print(x)"
   ]
  },
  {
   "cell_type": "code",
   "execution_count": 55,
   "metadata": {},
   "outputs": [
    {
     "name": "stdout",
     "output_type": "stream",
     "text": [
      "{'brand': 'Ford', 'model': 'Mustang', 'year': 1964}\n"
     ]
    }
   ],
   "source": [
    "#Function 2\n",
    "x=car.copy()#Returns a copy of the dictionary\n",
    "print(x)"
   ]
  },
  {
   "cell_type": "code",
   "execution_count": 56,
   "metadata": {},
   "outputs": [
    {
     "name": "stdout",
     "output_type": "stream",
     "text": [
      "dict_values(['Ford', 'Mustang', 1964])\n"
     ]
    }
   ],
   "source": [
    "#Function 3\n",
    "x=car.values()#Returns a list of all the values in the dictionary\n",
    "print(x)"
   ]
  },
  {
   "cell_type": "code",
   "execution_count": 59,
   "metadata": {},
   "outputs": [
    {
     "name": "stdout",
     "output_type": "stream",
     "text": [
      "{'brand': 'Ford', 'model': 'Mustang', 'year': 1964, 'Colour': 'Black'}\n"
     ]
    }
   ],
   "source": [
    "#Function 4\n",
    "car.update({'Colour':'Black'})#Returns a list of all the values in the dictionary\n",
    "print(car)"
   ]
  },
  {
   "cell_type": "code",
   "execution_count": 60,
   "metadata": {},
   "outputs": [
    {
     "name": "stdout",
     "output_type": "stream",
     "text": [
      "{'brand': 'Ford', 'model': 'Mustang', 'Colour': 'Black'}\n"
     ]
    }
   ],
   "source": [
    "#Function 5\n",
    "car.pop('year')#Removes the element with the specified key\n",
    "print(car)"
   ]
  },
  {
   "cell_type": "markdown",
   "metadata": {},
   "source": [
    "## 4. Tuple "
   ]
  },
  {
   "cell_type": "code",
   "execution_count": 61,
   "metadata": {},
   "outputs": [],
   "source": [
    "##built in functions on tuple\n",
    "tup = (1, 3, 7, 8, 7, 5, 4, 6, 8, 5)"
   ]
  },
  {
   "cell_type": "code",
   "execution_count": 62,
   "metadata": {},
   "outputs": [
    {
     "name": "stdout",
     "output_type": "stream",
     "text": [
      "2\n"
     ]
    }
   ],
   "source": [
    "#function 1\n",
    "x=tup.count(5)#Returns the number of times a specified value occurs in a tuple\n",
    "print(x)"
   ]
  },
  {
   "cell_type": "code",
   "execution_count": 63,
   "metadata": {},
   "outputs": [
    {
     "name": "stdout",
     "output_type": "stream",
     "text": [
      "3\n"
     ]
    }
   ],
   "source": [
    "#function 2\n",
    "x=tup.index(8)#Searches the tuple for a specified value and returns the position of where it was found\n",
    "print(x)"
   ]
  },
  {
   "cell_type": "markdown",
   "metadata": {},
   "source": [
    "## 5. Set"
   ]
  },
  {
   "cell_type": "code",
   "execution_count": 64,
   "metadata": {},
   "outputs": [],
   "source": [
    "#built in functions on set\n",
    "set1= {\"1\",\"2\",\"3\",\"apple\", \"banana\", \"cherry\"}"
   ]
  },
  {
   "cell_type": "code",
   "execution_count": 67,
   "metadata": {},
   "outputs": [
    {
     "name": "stdout",
     "output_type": "stream",
     "text": [
      "{'1', '10', 'cherry', '3', '2', 'banana', 'apple'}\n"
     ]
    }
   ],
   "source": [
    "#function 1\n",
    "set1.add(\"10\")#Adds an element to the set\n",
    "print(set1)"
   ]
  },
  {
   "cell_type": "code",
   "execution_count": 68,
   "metadata": {},
   "outputs": [
    {
     "name": "stdout",
     "output_type": "stream",
     "text": [
      "{'10', 'cherry', '3', '2', 'banana', '1', 'apple'}\n"
     ]
    }
   ],
   "source": [
    "#function 2\n",
    "x=set1.copy()#Returns a copy of the set\n",
    "print(x)"
   ]
  },
  {
   "cell_type": "code",
   "execution_count": 69,
   "metadata": {},
   "outputs": [
    {
     "name": "stdout",
     "output_type": "stream",
     "text": [
      "{'10', 'cherry', '3', '2', 'banana', 'apple'}\n"
     ]
    }
   ],
   "source": [
    "#function 3\n",
    "set1.discard('1')#Remove the specified item\n",
    "print(set1)"
   ]
  },
  {
   "cell_type": "code",
   "execution_count": 70,
   "metadata": {},
   "outputs": [
    {
     "name": "stdout",
     "output_type": "stream",
     "text": [
      "{'cherry', '3', '2', 'banana', 'apple'}\n"
     ]
    }
   ],
   "source": [
    "#function 4\n",
    "set1.pop()#Removes an element from the set\n",
    "print(set1)"
   ]
  },
  {
   "cell_type": "code",
   "execution_count": 71,
   "metadata": {},
   "outputs": [
    {
     "name": "stdout",
     "output_type": "stream",
     "text": [
      "set()\n"
     ]
    }
   ],
   "source": [
    "#function 5\n",
    "set1.clear()#Removes all the elements from the set\n",
    "print(set1)"
   ]
  }
 ],
 "metadata": {
  "kernelspec": {
   "display_name": "Python 3",
   "language": "python",
   "name": "python3"
  },
  "language_info": {
   "codemirror_mode": {
    "name": "ipython",
    "version": 3
   },
   "file_extension": ".py",
   "mimetype": "text/x-python",
   "name": "python",
   "nbconvert_exporter": "python",
   "pygments_lexer": "ipython3",
   "version": "3.7.6"
  }
 },
 "nbformat": 4,
 "nbformat_minor": 4
}
